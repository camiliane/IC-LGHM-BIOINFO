{
 "cells": [
  {
   "cell_type": "code",
   "execution_count": 5,
   "id": "a868f1a0-c247-4852-a3be-887f6d17658b",
   "metadata": {
    "tags": []
   },
   "outputs": [],
   "source": [
    "import pandas as pd\n",
    "import numpy as np"
   ]
  },
  {
   "cell_type": "code",
   "execution_count": 6,
   "id": "65f533d3-18aa-4bfe-b2b8-31fa5b54be6a",
   "metadata": {
    "tags": []
   },
   "outputs": [],
   "source": [
    "afr = pd.read_csv('AFR_FREQ.csv', sep=',')\n",
    "afr_amr = pd.read_csv('AFR_AMR_FREQ.csv', sep=',')\n",
    "amr = pd.read_csv('AMR_FREQ.csv', sep=',')\n",
    "eas = pd.read_csv('EAS_FREQ.csv', sep=',') \n",
    "eur = pd.read_csv('EUR_FREQ.csv', sep=',')\n",
    "nat = pd.read_csv('NAT_FREQ.csv', sep=',')"
   ]
  },
  {
   "cell_type": "code",
   "execution_count": 7,
   "id": "5c9acf0d-e717-4e79-b801-58f8e18ac608",
   "metadata": {
    "tags": []
   },
   "outputs": [],
   "source": [
    "f_afr = afr.loc[(afr[\"MAF\"] >0), \"MAF\"]\n",
    "f_afr_amr = afr_amr.loc[(afr_amr[\"MAF\"] >0), \"MAF\"]\n",
    "f_amr = amr.loc[(amr[\"MAF\"] >0), \"MAF\"]\n",
    "f_eas = eas.loc[(eas[\"MAF\"] >0), \"MAF\"]\n",
    "f_eur = eur.loc[(eur[\"MAF\"] >0), \"MAF\"]\n",
    "f_nat = nat.loc[(nat[\"MAF\"] >0), \"MAF\"]"
   ]
  },
  {
   "cell_type": "code",
   "execution_count": 8,
   "id": "de97bd5a-80ad-45af-ac32-afe5da8254d4",
   "metadata": {
    "tags": []
   },
   "outputs": [],
   "source": [
    "_afr = afr.loc[(afr[\"MAF\"] ==0), \"MAF\"]\n",
    "_afr_amr = afr_amr.loc[(afr_amr[\"MAF\"] ==0), \"MAF\"]\n",
    "_amr = amr.loc[(amr[\"MAF\"] ==0), \"MAF\"]\n",
    "_eas = eas.loc[(eas[\"MAF\"] ==0), \"MAF\"]\n",
    "_eur = eur.loc[(eur[\"MAF\"] ==0), \"MAF\"]\n",
    "_nat = nat.loc[(nat[\"MAF\"] ==0), \"MAF\"]"
   ]
  },
  {
   "cell_type": "code",
   "execution_count": 32,
   "id": "023b2e1a-9222-4774-a00a-8c298a2452eb",
   "metadata": {
    "tags": []
   },
   "outputs": [
    {
     "data": {
      "text/plain": [
       "6193"
      ]
     },
     "execution_count": 32,
     "metadata": {},
     "output_type": "execute_result"
    }
   ],
   "source": [
    "_afr_amr.count()"
   ]
  },
  {
   "cell_type": "code",
   "execution_count": 9,
   "id": "39b5c2d4-79f1-44f5-993c-5341a3d573ba",
   "metadata": {
    "tags": []
   },
   "outputs": [],
   "source": [
    "dic_freq = {\"NAT\":[(f_nat.loc[f_nat > 0.01]).count(), (f_nat.loc[f_nat <= 0.01]).count(), _nat.count()],\n",
    "\"AFR\":[(f_afr.loc[f_afr > 0.01]).count(), (f_afr.loc[f_afr <= 0.01]).count(), _afr.count()],\n",
    "\"AFR_AMR\":[(f_afr_amr.loc[f_afr_amr > 0.01]).count(), (f_afr_amr.loc[f_afr_amr <= 0.01]).count(), _afr_amr.count()],\n",
    "\"EAS\":[(f_eas.loc[f_eas > 0.01]).count(), (f_eas.loc[f_eas <= 0.01]).count(), _eas.count()],\n",
    "\"EUR\":[(f_eur.loc[f_eur > 0.01]).count(), (f_eur.loc[f_eur <= 0.01]).count(), _eur.count()],\n",
    "\"AMR\":[(f_amr.loc[f_amr > 0.01]).count(), (f_amr.loc[f_amr <= 0.01]).count(), _amr.count()]}"
   ]
  },
  {
   "cell_type": "code",
   "execution_count": 10,
   "id": "ce5ef93d-5a09-4c57-9a29-9d3e38d8b09d",
   "metadata": {
    "tags": []
   },
   "outputs": [],
   "source": [
    "mutacaos = pd.DataFrame(dic_freq, index=[\"Comums\", \"Raras\", \"Ausentes\"])\n",
    "#mutacaos.to_csv(\"freq_mutacoes_pops.txt\", sep=\" \")"
   ]
  },
  {
   "cell_type": "code",
   "execution_count": 12,
   "id": "f2e1e5e5-4b28-4a0b-8fe7-95804b3ef454",
   "metadata": {
    "tags": []
   },
   "outputs": [
    {
     "data": {
      "text/html": [
       "<div>\n",
       "<style scoped>\n",
       "    .dataframe tbody tr th:only-of-type {\n",
       "        vertical-align: middle;\n",
       "    }\n",
       "\n",
       "    .dataframe tbody tr th {\n",
       "        vertical-align: top;\n",
       "    }\n",
       "\n",
       "    .dataframe thead th {\n",
       "        text-align: right;\n",
       "    }\n",
       "</style>\n",
       "<table border=\"1\" class=\"dataframe\">\n",
       "  <thead>\n",
       "    <tr style=\"text-align: right;\">\n",
       "      <th></th>\n",
       "      <th>NAT</th>\n",
       "      <th>AFR</th>\n",
       "      <th>AFR_AMR</th>\n",
       "      <th>EAS</th>\n",
       "      <th>EUR</th>\n",
       "      <th>AMR</th>\n",
       "    </tr>\n",
       "  </thead>\n",
       "  <tbody>\n",
       "    <tr>\n",
       "      <th>Comums</th>\n",
       "      <td>71</td>\n",
       "      <td>252</td>\n",
       "      <td>228</td>\n",
       "      <td>42</td>\n",
       "      <td>66</td>\n",
       "      <td>87</td>\n",
       "    </tr>\n",
       "    <tr>\n",
       "      <th>Raras</th>\n",
       "      <td>0</td>\n",
       "      <td>1452</td>\n",
       "      <td>591</td>\n",
       "      <td>1048</td>\n",
       "      <td>1006</td>\n",
       "      <td>954</td>\n",
       "    </tr>\n",
       "    <tr>\n",
       "      <th>Ausentes</th>\n",
       "      <td>6941</td>\n",
       "      <td>5308</td>\n",
       "      <td>6193</td>\n",
       "      <td>5922</td>\n",
       "      <td>5940</td>\n",
       "      <td>5971</td>\n",
       "    </tr>\n",
       "  </tbody>\n",
       "</table>\n",
       "</div>"
      ],
      "text/plain": [
       "           NAT   AFR  AFR_AMR   EAS   EUR   AMR\n",
       "Comums      71   252      228    42    66    87\n",
       "Raras        0  1452      591  1048  1006   954\n",
       "Ausentes  6941  5308     6193  5922  5940  5971"
      ]
     },
     "execution_count": 12,
     "metadata": {},
     "output_type": "execute_result"
    }
   ],
   "source": [
    "mutacaos"
   ]
  },
  {
   "cell_type": "code",
   "execution_count": null,
   "id": "480e3cb1-166f-4744-996e-9f74416f878c",
   "metadata": {},
   "outputs": [],
   "source": []
  }
 ],
 "metadata": {
  "kernelspec": {
   "display_name": "Python 3 (ipykernel)",
   "language": "python",
   "name": "python3"
  },
  "language_info": {
   "codemirror_mode": {
    "name": "ipython",
    "version": 3
   },
   "file_extension": ".py",
   "mimetype": "text/x-python",
   "name": "python",
   "nbconvert_exporter": "python",
   "pygments_lexer": "ipython3",
   "version": "3.11.4"
  }
 },
 "nbformat": 4,
 "nbformat_minor": 5
}
